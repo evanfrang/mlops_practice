{
 "cells": [
  {
   "cell_type": "markdown",
   "metadata": {},
   "source": [
    "## Scenario 1: A single data scientist participating in an ML competition\n",
    "\n",
    "MLflow setup:\n",
    "* Tracking server: no\n",
    "* Backend store: local filesystem\n",
    "* Artifacts store: local filesystem\n",
    "\n",
    "The experiments can be explored locally by launching the MLflow UI."
   ]
  },
  {
   "cell_type": "code",
   "execution_count": 1,
   "metadata": {},
   "outputs": [],
   "source": [
    "import mlflow"
   ]
  },
  {
   "cell_type": "code",
   "execution_count": 2,
   "metadata": {},
   "outputs": [
    {
     "name": "stdout",
     "output_type": "stream",
     "text": [
      "tracking URI: 'file:///workspaces/mlops_practice/02-experiment-tracking/mlruns'\n"
     ]
    }
   ],
   "source": [
    "print(f\"tracking URI: '{mlflow.get_tracking_uri()}'\")"
   ]
  },
  {
   "cell_type": "code",
   "execution_count": 3,
   "metadata": {},
   "outputs": [
    {
     "name": "stderr",
     "output_type": "stream",
     "text": [
      "WARNING:root:Malformed experiment '1'. Detailed error Yaml file '/workspaces/mlops_practice/02-experiment-tracking/mlruns/1/meta.yaml' does not exist.\n",
      "Traceback (most recent call last):\n",
      "  File \"/home/codespace/anaconda3/lib/python3.9/site-packages/mlflow/store/tracking/file_store.py\", line 347, in search_experiments\n",
      "    exp = self._get_experiment(exp_id, view_type)\n",
      "  File \"/home/codespace/anaconda3/lib/python3.9/site-packages/mlflow/store/tracking/file_store.py\", line 445, in _get_experiment\n",
      "    meta = FileStore._read_yaml(experiment_dir, FileStore.META_DATA_FILE_NAME)\n",
      "  File \"/home/codespace/anaconda3/lib/python3.9/site-packages/mlflow/store/tracking/file_store.py\", line 1588, in _read_yaml\n",
      "    return _read_helper(root, file_name, attempts_remaining=retries)\n",
      "  File \"/home/codespace/anaconda3/lib/python3.9/site-packages/mlflow/store/tracking/file_store.py\", line 1581, in _read_helper\n",
      "    result = read_yaml(root, file_name)\n",
      "  File \"/home/codespace/anaconda3/lib/python3.9/site-packages/mlflow/utils/yaml_utils.py\", line 107, in read_yaml\n",
      "    raise MissingConfigException(f\"Yaml file '{file_path}' does not exist.\")\n",
      "mlflow.exceptions.MissingConfigException: Yaml file '/workspaces/mlops_practice/02-experiment-tracking/mlruns/1/meta.yaml' does not exist.\n"
     ]
    },
    {
     "data": {
      "text/plain": [
       "[]"
      ]
     },
     "execution_count": 3,
     "metadata": {},
     "output_type": "execute_result"
    }
   ],
   "source": [
    "mlflow.search_experiments()"
   ]
  },
  {
   "cell_type": "markdown",
   "metadata": {},
   "source": [
    "### Creating an experiment and logging a new run"
   ]
  },
  {
   "cell_type": "code",
   "execution_count": 4,
   "metadata": {},
   "outputs": [
    {
     "name": "stderr",
     "output_type": "stream",
     "text": [
      "WARNING:root:Malformed experiment '1'. Detailed error Yaml file '/workspaces/mlops_practice/02-experiment-tracking/mlruns/1/meta.yaml' does not exist.\n",
      "Traceback (most recent call last):\n",
      "  File \"/home/codespace/anaconda3/lib/python3.9/site-packages/mlflow/store/tracking/file_store.py\", line 347, in search_experiments\n",
      "    exp = self._get_experiment(exp_id, view_type)\n",
      "  File \"/home/codespace/anaconda3/lib/python3.9/site-packages/mlflow/store/tracking/file_store.py\", line 445, in _get_experiment\n",
      "    meta = FileStore._read_yaml(experiment_dir, FileStore.META_DATA_FILE_NAME)\n",
      "  File \"/home/codespace/anaconda3/lib/python3.9/site-packages/mlflow/store/tracking/file_store.py\", line 1588, in _read_yaml\n",
      "    return _read_helper(root, file_name, attempts_remaining=retries)\n",
      "  File \"/home/codespace/anaconda3/lib/python3.9/site-packages/mlflow/store/tracking/file_store.py\", line 1581, in _read_helper\n",
      "    result = read_yaml(root, file_name)\n",
      "  File \"/home/codespace/anaconda3/lib/python3.9/site-packages/mlflow/utils/yaml_utils.py\", line 107, in read_yaml\n",
      "    raise MissingConfigException(f\"Yaml file '{file_path}' does not exist.\")\n",
      "mlflow.exceptions.MissingConfigException: Yaml file '/workspaces/mlops_practice/02-experiment-tracking/mlruns/1/meta.yaml' does not exist.\n",
      "2025/06/24 20:19:44 INFO mlflow.tracking.fluent: Experiment with name 'my-experiment-1' does not exist. Creating a new experiment.\n",
      "WARNING:root:Malformed experiment '1'. Detailed error Yaml file '/workspaces/mlops_practice/02-experiment-tracking/mlruns/1/meta.yaml' does not exist.\n",
      "Traceback (most recent call last):\n",
      "  File \"/home/codespace/anaconda3/lib/python3.9/site-packages/mlflow/store/tracking/file_store.py\", line 347, in search_experiments\n",
      "    exp = self._get_experiment(exp_id, view_type)\n",
      "  File \"/home/codespace/anaconda3/lib/python3.9/site-packages/mlflow/store/tracking/file_store.py\", line 445, in _get_experiment\n",
      "    meta = FileStore._read_yaml(experiment_dir, FileStore.META_DATA_FILE_NAME)\n",
      "  File \"/home/codespace/anaconda3/lib/python3.9/site-packages/mlflow/store/tracking/file_store.py\", line 1588, in _read_yaml\n",
      "    return _read_helper(root, file_name, attempts_remaining=retries)\n",
      "  File \"/home/codespace/anaconda3/lib/python3.9/site-packages/mlflow/store/tracking/file_store.py\", line 1581, in _read_helper\n",
      "    result = read_yaml(root, file_name)\n",
      "  File \"/home/codespace/anaconda3/lib/python3.9/site-packages/mlflow/utils/yaml_utils.py\", line 107, in read_yaml\n",
      "    raise MissingConfigException(f\"Yaml file '{file_path}' does not exist.\")\n",
      "mlflow.exceptions.MissingConfigException: Yaml file '/workspaces/mlops_practice/02-experiment-tracking/mlruns/1/meta.yaml' does not exist.\n",
      "2025/06/24 20:19:45 WARNING mlflow.models.model: `artifact_path` is deprecated. Please use `name` instead.\n",
      "2025/06/24 20:19:48 WARNING mlflow.utils.environment: Encountered an unexpected error while inferring pip requirements (model URI: /tmp/tmpsxgvzlc2/model/model.pkl, flavor: sklearn). Fall back to return ['scikit-learn==1.0.2', 'cloudpickle==2.0.0']. Set logging level to DEBUG to see the full traceback. \n",
      "\u001b[31m2025/06/24 20:19:48 WARNING mlflow.models.model: Model logged without a signature and input example. Please set `input_example` parameter when logging the model to auto infer the model signature.\u001b[0m\n"
     ]
    },
    {
     "name": "stdout",
     "output_type": "stream",
     "text": [
      "default artifacts URI: 'file:///workspaces/mlops_practice/02-experiment-tracking/mlruns/442320712185336999/e361ac6b1af34c5ab06e7a71267feeba/artifacts'\n"
     ]
    }
   ],
   "source": [
    "from sklearn.linear_model import LogisticRegression\n",
    "from sklearn.datasets import load_iris\n",
    "from sklearn.metrics import accuracy_score\n",
    "\n",
    "mlflow.set_experiment(\"my-experiment-1\")\n",
    "\n",
    "with mlflow.start_run():\n",
    "\n",
    "    X, y = load_iris(return_X_y=True)\n",
    "\n",
    "    params = {\"C\": 0.1, \"random_state\": 42}\n",
    "    mlflow.log_params(params)\n",
    "\n",
    "    lr = LogisticRegression(**params).fit(X, y)\n",
    "    y_pred = lr.predict(X)\n",
    "    mlflow.log_metric(\"accuracy\", accuracy_score(y, y_pred))\n",
    "\n",
    "    mlflow.sklearn.log_model(lr, artifact_path=\"models\")\n",
    "    print(f\"default artifacts URI: '{mlflow.get_artifact_uri()}'\")"
   ]
  },
  {
   "cell_type": "code",
   "execution_count": 5,
   "metadata": {},
   "outputs": [
    {
     "name": "stderr",
     "output_type": "stream",
     "text": [
      "WARNING:root:Malformed experiment '1'. Detailed error Yaml file '/workspaces/mlops_practice/02-experiment-tracking/mlruns/1/meta.yaml' does not exist.\n",
      "Traceback (most recent call last):\n",
      "  File \"/home/codespace/anaconda3/lib/python3.9/site-packages/mlflow/store/tracking/file_store.py\", line 347, in search_experiments\n",
      "    exp = self._get_experiment(exp_id, view_type)\n",
      "  File \"/home/codespace/anaconda3/lib/python3.9/site-packages/mlflow/store/tracking/file_store.py\", line 445, in _get_experiment\n",
      "    meta = FileStore._read_yaml(experiment_dir, FileStore.META_DATA_FILE_NAME)\n",
      "  File \"/home/codespace/anaconda3/lib/python3.9/site-packages/mlflow/store/tracking/file_store.py\", line 1588, in _read_yaml\n",
      "    return _read_helper(root, file_name, attempts_remaining=retries)\n",
      "  File \"/home/codespace/anaconda3/lib/python3.9/site-packages/mlflow/store/tracking/file_store.py\", line 1581, in _read_helper\n",
      "    result = read_yaml(root, file_name)\n",
      "  File \"/home/codespace/anaconda3/lib/python3.9/site-packages/mlflow/utils/yaml_utils.py\", line 107, in read_yaml\n",
      "    raise MissingConfigException(f\"Yaml file '{file_path}' does not exist.\")\n",
      "mlflow.exceptions.MissingConfigException: Yaml file '/workspaces/mlops_practice/02-experiment-tracking/mlruns/1/meta.yaml' does not exist.\n"
     ]
    },
    {
     "data": {
      "text/plain": [
       "[<Experiment: artifact_location='file:///workspaces/mlops_practice/02-experiment-tracking/mlruns/442320712185336999', creation_time=1750796384761, experiment_id='442320712185336999', last_update_time=1750796384761, lifecycle_stage='active', name='my-experiment-1', tags={}>]"
      ]
     },
     "execution_count": 5,
     "metadata": {},
     "output_type": "execute_result"
    }
   ],
   "source": [
    "mlflow.search_experiments()"
   ]
  },
  {
   "cell_type": "code",
   "execution_count": null,
   "metadata": {},
   "outputs": [],
   "source": []
  },
  {
   "cell_type": "markdown",
   "metadata": {},
   "source": [
    "### Interacting with the model registry"
   ]
  },
  {
   "cell_type": "code",
   "execution_count": 6,
   "metadata": {},
   "outputs": [],
   "source": [
    "from mlflow.tracking import MlflowClient\n",
    "\n",
    "\n",
    "client = MlflowClient()"
   ]
  },
  {
   "cell_type": "code",
   "execution_count": 7,
   "metadata": {},
   "outputs": [],
   "source": [
    "from mlflow.exceptions import MlflowException\n",
    "\n",
    "try:\n",
    "    client.search_registered_models()\n",
    "except MlflowException:\n",
    "    print(\"It's not possible to access the model registry :(\")"
   ]
  },
  {
   "cell_type": "code",
   "execution_count": null,
   "metadata": {},
   "outputs": [],
   "source": []
  }
 ],
 "metadata": {
  "kernelspec": {
   "display_name": "Python 3",
   "language": "python",
   "name": "python3"
  },
  "language_info": {
   "codemirror_mode": {
    "name": "ipython",
    "version": 3
   },
   "file_extension": ".py",
   "mimetype": "text/x-python",
   "name": "python",
   "nbconvert_exporter": "python",
   "pygments_lexer": "ipython3",
   "version": "3.9.12"
  },
  "orig_nbformat": 4
 },
 "nbformat": 4,
 "nbformat_minor": 2
}
